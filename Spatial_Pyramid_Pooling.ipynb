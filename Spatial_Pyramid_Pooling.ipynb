{
  "nbformat": 4,
  "nbformat_minor": 0,
  "metadata": {
    "colab": {
      "name": "Spatial Pyramid Pooling.ipynb",
      "provenance": []
    },
    "kernelspec": {
      "name": "python3",
      "display_name": "Python 3"
    },
    "language_info": {
      "name": "python"
    }
  },
  "cells": [
    {
      "cell_type": "code",
      "execution_count": 26,
      "metadata": {
        "colab": {
          "base_uri": "https://localhost:8080/"
        },
        "id": "JRPhSorVhV5L",
        "outputId": "01008646-1a54-4583-d032-ee3d5e4c25ae"
      },
      "outputs": [
        {
          "output_type": "stream",
          "name": "stdout",
          "text": [
            "Looking in indexes: https://pypi.org/simple, https://us-python.pkg.dev/colab-wheels/public/simple/\n",
            "Requirement already satisfied: flax in /usr/local/lib/python3.7/dist-packages (0.5.1)\n",
            "Requirement already satisfied: rich~=11.1.0 in /usr/local/lib/python3.7/dist-packages (from flax) (11.1.0)\n",
            "Requirement already satisfied: msgpack in /usr/local/lib/python3.7/dist-packages (from flax) (1.0.4)\n",
            "Requirement already satisfied: numpy>=1.12 in /usr/local/lib/python3.7/dist-packages (from flax) (1.21.6)\n",
            "Requirement already satisfied: jax>=0.3.2 in /usr/local/lib/python3.7/dist-packages (from flax) (0.3.8)\n",
            "Requirement already satisfied: typing-extensions>=4.1.1 in /usr/local/lib/python3.7/dist-packages (from flax) (4.2.0)\n",
            "Requirement already satisfied: optax in /usr/local/lib/python3.7/dist-packages (from flax) (0.1.2)\n",
            "Requirement already satisfied: matplotlib in /usr/local/lib/python3.7/dist-packages (from flax) (3.2.2)\n",
            "Requirement already satisfied: scipy>=1.2.1 in /usr/local/lib/python3.7/dist-packages (from jax>=0.3.2->flax) (1.4.1)\n",
            "Requirement already satisfied: absl-py in /usr/local/lib/python3.7/dist-packages (from jax>=0.3.2->flax) (1.1.0)\n",
            "Requirement already satisfied: opt-einsum in /usr/local/lib/python3.7/dist-packages (from jax>=0.3.2->flax) (3.3.0)\n",
            "Requirement already satisfied: commonmark<0.10.0,>=0.9.0 in /usr/local/lib/python3.7/dist-packages (from rich~=11.1.0->flax) (0.9.1)\n",
            "Requirement already satisfied: pygments<3.0.0,>=2.6.0 in /usr/local/lib/python3.7/dist-packages (from rich~=11.1.0->flax) (2.6.1)\n",
            "Requirement already satisfied: colorama<0.5.0,>=0.4.0 in /usr/local/lib/python3.7/dist-packages (from rich~=11.1.0->flax) (0.4.4)\n",
            "Requirement already satisfied: kiwisolver>=1.0.1 in /usr/local/lib/python3.7/dist-packages (from matplotlib->flax) (1.4.2)\n",
            "Requirement already satisfied: python-dateutil>=2.1 in /usr/local/lib/python3.7/dist-packages (from matplotlib->flax) (2.8.2)\n",
            "Requirement already satisfied: cycler>=0.10 in /usr/local/lib/python3.7/dist-packages (from matplotlib->flax) (0.11.0)\n",
            "Requirement already satisfied: pyparsing!=2.0.4,!=2.1.2,!=2.1.6,>=2.0.1 in /usr/local/lib/python3.7/dist-packages (from matplotlib->flax) (3.0.9)\n",
            "Requirement already satisfied: six>=1.5 in /usr/local/lib/python3.7/dist-packages (from python-dateutil>=2.1->matplotlib->flax) (1.15.0)\n",
            "Requirement already satisfied: jaxlib>=0.1.37 in /usr/local/lib/python3.7/dist-packages (from optax->flax) (0.3.7+cuda11.cudnn805)\n",
            "Requirement already satisfied: chex>=0.0.4 in /usr/local/lib/python3.7/dist-packages (from optax->flax) (0.1.3)\n",
            "Requirement already satisfied: toolz>=0.9.0 in /usr/local/lib/python3.7/dist-packages (from chex>=0.0.4->optax->flax) (0.11.2)\n",
            "Requirement already satisfied: dm-tree>=0.1.5 in /usr/local/lib/python3.7/dist-packages (from chex>=0.0.4->optax->flax) (0.1.7)\n",
            "Requirement already satisfied: flatbuffers<3.0,>=1.12 in /usr/local/lib/python3.7/dist-packages (from jaxlib>=0.1.37->optax->flax) (2.0)\n"
          ]
        }
      ],
      "source": [
        "# SPP Layer Implementation in JAX-FLAX\n",
        "# Author: Goktug Guvercin\n",
        "\n",
        "!pip install flax"
      ]
    },
    {
      "cell_type": "code",
      "source": [
        "import jax\n",
        "import flax\n",
        "import jax.numpy as jnp\n",
        "\n",
        "from math import floor"
      ],
      "metadata": {
        "id": "W-HtzOHqhcxt"
      },
      "execution_count": 27,
      "outputs": []
    },
    {
      "cell_type": "code",
      "source": [
        "def spatial_pyramid_pool(feature_maps, pool_levels, data_format=\"cl\", verbose=False):\n",
        "\n",
        "  \n",
        "  if data_format == \"cl\": # channel last\n",
        "    height, width = feature_maps.shape[0:2]\n",
        "  else: # channel first\n",
        "    height, width = feature_maps.shape[1:3]\n",
        "  \n",
        "  # pool levels cannot be greater than map dimensions\n",
        "  # pool levels cannot be negative value or zero\n",
        "  conditions = [jnp.array(pool_levels) > height, \n",
        "                jnp.array(pool_levels) > width,\n",
        "                jnp.array(pool_levels) <= 0]\n",
        "\n",
        "  conditions = jnp.concatenate(conditions)\n",
        "\n",
        "  if True in conditions:\n",
        "    return None\n",
        "\n",
        "\n",
        "  features = []\n",
        "  for level in pool_levels:\n",
        "\n",
        "    filter_height = floor(height / level)\n",
        "    filter_width = floor(width / level)\n",
        "\n",
        "    window_shape = (filter_height, filter_width)\n",
        "    strides = (filter_width, filter_width)\n",
        "    #remainder_height = height % level\n",
        "    #remainder_width = width % level\n",
        "\n",
        "    pooled_maps = flax.linen.max_pool(feature_maps, window_shape, strides)\n",
        "    num_features = jnp.prod(jnp.array(pooled_maps.shape))\n",
        "    feature_vector = pooled_maps.reshape(num_features)\n",
        "    features.append(feature_vector)\n",
        "\n",
        "    if verbose:\n",
        "      print(\"Pool Level: \", level)\n",
        "      print(\"Shape of pooled maps: \", pooled_maps.shape)\n",
        "      print(\"Number of features in pooled maps: \", feature_vector.shape)\n",
        "      print()\n",
        "\n",
        "  features = jnp.concatenate(features)\n",
        "  return features\n",
        "\n",
        "\"\"\"\n",
        "* SPP-Layer at first performs max pooling with a kernal whose size is same as the\n",
        "size of feature maps extracted by convolutional backbone. Then, it repeats same\n",
        "operation by halving kernel size in each level.\n",
        "\n",
        "Level 0: Kernel Shape = Map Shape\n",
        "Level 1: Kernel Shape = Map Shape / 2\n",
        "Level 2: Kernel Shape = Map Shape / 4\n",
        "\n",
        "pool_levels indicate the proportion of division for kernel shape\n",
        "\n",
        "* One disadvantage of SPP layer is that if the shape of your feature maps is not\n",
        "divisible by the proportion of patial-pyramid pooling levels, rounding needs to\n",
        "be performed. In this case, SPP layer cannot guarantee fixed number of features\n",
        "for images of two different size.\n",
        "\n",
        "When verbose is activated, we see that the number of features in level 1 and 2\n",
        "for two different feature maps of different size  are equal (512 and 2048).\n",
        "However, we notice that they are not equal for pool level 4 because 10x10 is not\n",
        "divisible by 4 while 16x16 is actually divisible. \n",
        "\"\"\"\n",
        "\n",
        "key = jax.random.PRNGKey(seed=37)\n",
        "feature_maps = jax.random.normal(key, (10, 10, 512))\n",
        "feature_maps2 = jax.random.normal(key, (16, 16, 512))\n",
        "pool_levels = [1, 2, 4]\n",
        "\n",
        "\n",
        "features = spatial_pyramid_pool(feature_maps, pool_levels, verbose=True)\n",
        "print()\n",
        "features2 = spatial_pyramid_pool(feature_maps2, pool_levels, verbose=True)\n",
        "\n",
        "\n",
        "\n"
      ],
      "metadata": {
        "colab": {
          "base_uri": "https://localhost:8080/"
        },
        "id": "fy597ZWkhZcl",
        "outputId": "0b6e3d01-f702-42c2-9580-ecbe450f22cd"
      },
      "execution_count": 28,
      "outputs": [
        {
          "output_type": "stream",
          "name": "stdout",
          "text": [
            "Pool Level:  1\n",
            "Shape of pooled maps:  (1, 1, 512)\n",
            "Number of features in pooled maps:  (512,)\n",
            "\n",
            "Pool Level:  2\n",
            "Shape of pooled maps:  (2, 2, 512)\n",
            "Number of features in pooled maps:  (2048,)\n",
            "\n",
            "Pool Level:  4\n",
            "Shape of pooled maps:  (5, 5, 512)\n",
            "Number of features in pooled maps:  (12800,)\n",
            "\n",
            "\n",
            "Pool Level:  1\n",
            "Shape of pooled maps:  (1, 1, 512)\n",
            "Number of features in pooled maps:  (512,)\n",
            "\n",
            "Pool Level:  2\n",
            "Shape of pooled maps:  (2, 2, 512)\n",
            "Number of features in pooled maps:  (2048,)\n",
            "\n",
            "Pool Level:  4\n",
            "Shape of pooled maps:  (4, 4, 512)\n",
            "Number of features in pooled maps:  (8192,)\n",
            "\n"
          ]
        }
      ]
    }
  ]
}