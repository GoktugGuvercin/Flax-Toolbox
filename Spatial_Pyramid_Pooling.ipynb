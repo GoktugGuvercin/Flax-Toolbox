{
  "nbformat": 4,
  "nbformat_minor": 0,
  "metadata": {
    "colab": {
      "name": "Spatial Pyramid Pooling.ipynb",
      "provenance": [],
      "collapsed_sections": []
    },
    "kernelspec": {
      "name": "python3",
      "display_name": "Python 3"
    },
    "language_info": {
      "name": "python"
    }
  },
  "cells": [
    {
      "cell_type": "code",
      "execution_count": null,
      "metadata": {
        "colab": {
          "base_uri": "https://localhost:8080/"
        },
        "id": "JRPhSorVhV5L",
        "outputId": "47e1646c-708d-42b0-af24-789160852c7a"
      },
      "outputs": [
        {
          "output_type": "stream",
          "name": "stdout",
          "text": [
            "Looking in indexes: https://pypi.org/simple, https://us-python.pkg.dev/colab-wheels/public/simple/\n",
            "Collecting flax\n",
            "  Downloading flax-0.5.1-py3-none-any.whl (197 kB)\n",
            "\u001b[K     |████████████████████████████████| 197 kB 4.5 MB/s \n",
            "\u001b[?25hCollecting rich~=11.1.0\n",
            "  Downloading rich-11.1.0-py3-none-any.whl (216 kB)\n",
            "\u001b[K     |████████████████████████████████| 216 kB 35.4 MB/s \n",
            "\u001b[?25hRequirement already satisfied: jax>=0.3.2 in /usr/local/lib/python3.7/dist-packages (from flax) (0.3.8)\n",
            "Requirement already satisfied: numpy>=1.12 in /usr/local/lib/python3.7/dist-packages (from flax) (1.21.6)\n",
            "Collecting optax\n",
            "  Downloading optax-0.1.2-py3-none-any.whl (140 kB)\n",
            "\u001b[K     |████████████████████████████████| 140 kB 48.1 MB/s \n",
            "\u001b[?25hRequirement already satisfied: matplotlib in /usr/local/lib/python3.7/dist-packages (from flax) (3.2.2)\n",
            "Requirement already satisfied: msgpack in /usr/local/lib/python3.7/dist-packages (from flax) (1.0.4)\n",
            "Requirement already satisfied: typing-extensions>=4.1.1 in /usr/local/lib/python3.7/dist-packages (from flax) (4.2.0)\n",
            "Requirement already satisfied: scipy>=1.2.1 in /usr/local/lib/python3.7/dist-packages (from jax>=0.3.2->flax) (1.4.1)\n",
            "Requirement already satisfied: opt-einsum in /usr/local/lib/python3.7/dist-packages (from jax>=0.3.2->flax) (3.3.0)\n",
            "Requirement already satisfied: absl-py in /usr/local/lib/python3.7/dist-packages (from jax>=0.3.2->flax) (1.1.0)\n",
            "Collecting colorama<0.5.0,>=0.4.0\n",
            "  Downloading colorama-0.4.4-py2.py3-none-any.whl (16 kB)\n",
            "Requirement already satisfied: pygments<3.0.0,>=2.6.0 in /usr/local/lib/python3.7/dist-packages (from rich~=11.1.0->flax) (2.6.1)\n",
            "Collecting commonmark<0.10.0,>=0.9.0\n",
            "  Downloading commonmark-0.9.1-py2.py3-none-any.whl (51 kB)\n",
            "\u001b[K     |████████████████████████████████| 51 kB 6.3 MB/s \n",
            "\u001b[?25hRequirement already satisfied: kiwisolver>=1.0.1 in /usr/local/lib/python3.7/dist-packages (from matplotlib->flax) (1.4.2)\n",
            "Requirement already satisfied: pyparsing!=2.0.4,!=2.1.2,!=2.1.6,>=2.0.1 in /usr/local/lib/python3.7/dist-packages (from matplotlib->flax) (3.0.9)\n",
            "Requirement already satisfied: python-dateutil>=2.1 in /usr/local/lib/python3.7/dist-packages (from matplotlib->flax) (2.8.2)\n",
            "Requirement already satisfied: cycler>=0.10 in /usr/local/lib/python3.7/dist-packages (from matplotlib->flax) (0.11.0)\n",
            "Requirement already satisfied: six>=1.5 in /usr/local/lib/python3.7/dist-packages (from python-dateutil>=2.1->matplotlib->flax) (1.15.0)\n",
            "Collecting chex>=0.0.4\n",
            "  Downloading chex-0.1.3-py3-none-any.whl (72 kB)\n",
            "\u001b[K     |████████████████████████████████| 72 kB 653 kB/s \n",
            "\u001b[?25hRequirement already satisfied: jaxlib>=0.1.37 in /usr/local/lib/python3.7/dist-packages (from optax->flax) (0.3.7+cuda11.cudnn805)\n",
            "Requirement already satisfied: toolz>=0.9.0 in /usr/local/lib/python3.7/dist-packages (from chex>=0.0.4->optax->flax) (0.11.2)\n",
            "Requirement already satisfied: dm-tree>=0.1.5 in /usr/local/lib/python3.7/dist-packages (from chex>=0.0.4->optax->flax) (0.1.7)\n",
            "Requirement already satisfied: flatbuffers<3.0,>=1.12 in /usr/local/lib/python3.7/dist-packages (from jaxlib>=0.1.37->optax->flax) (2.0)\n",
            "Installing collected packages: commonmark, colorama, chex, rich, optax, flax\n",
            "Successfully installed chex-0.1.3 colorama-0.4.4 commonmark-0.9.1 flax-0.5.1 optax-0.1.2 rich-11.1.0\n"
          ]
        }
      ],
      "source": [
        "# SPP Layer Implementation in JAX-FLAX\n",
        "# Author: Goktug Guvercin\n",
        "\n",
        "!pip install flax"
      ]
    },
    {
      "cell_type": "code",
      "source": [
        "import jax\n",
        "import flax\n",
        "import jax.numpy as jnp\n",
        "\n",
        "from math import floor"
      ],
      "metadata": {
        "id": "W-HtzOHqhcxt"
      },
      "execution_count": null,
      "outputs": []
    },
    {
      "cell_type": "code",
      "source": [
        "\"\"\"\n",
        "* SPP-Layer at first performs max pooling with a kernal whose size is same as the\n",
        "size of feature maps extracted by convolutional backbone. Then, it repeats same\n",
        "operation by halving kernel size in each level.\n",
        "\n",
        "Level 0: Kernel Shape = Map Shape\n",
        "Level 1: Kernel Shape = Map Shape / 2\n",
        "Level 2: Kernel Shape = Map Shape / 4\n",
        "\n",
        "pool_levels indicate the proportion of division for kernel shape\n",
        "\n",
        "\"\"\"\n",
        "\n",
        "\n",
        "def spatial_pyramid_pool(feature_maps, pool_levels, data_format=\"cl\", verbose=False):\n",
        "\n",
        "  \"\"\"\n",
        "  Parameters:\n",
        "  ----------\n",
        "\n",
        "  * feature_maps: 3-dimensional maps extracted by cnn backbone\n",
        "  * pool_levels: a list of integers; they refer to the proportion of spatial \n",
        "                 size of pool filters to spatial size of maps (look at spp-layer \n",
        "                 explanation above)\n",
        "  \n",
        "  * data_format: a string value (cl: channel-last or cf: channel first)\n",
        "  * verbose: boolean value;\n",
        "             True: It prints pool level, shape of pooled maps and its number of features\n",
        "             False: It prints nothing\n",
        "  \"\"\"\n",
        "\n",
        "  \n",
        "  if data_format == \"cl\": # channel last\n",
        "    height, width = feature_maps.shape[0:2]\n",
        "  elif data_format == \"cf\": # channel first\n",
        "    height, width = feature_maps.shape[1:3]\n",
        "  else:\n",
        "    return None\n",
        "\n",
        "  # pool levels cannot be greater than map dimensions\n",
        "  # pool levels cannot be negative value or zero\n",
        "  conditions = [jnp.array(pool_levels) > height, \n",
        "                jnp.array(pool_levels) > width,\n",
        "                jnp.array(pool_levels) <= 0]\n",
        "\n",
        "  conditions = jnp.concatenate(conditions)\n",
        "\n",
        "  if True in conditions:\n",
        "    return None\n",
        "\n",
        "\n",
        "  features = []\n",
        "  for level in pool_levels:\n",
        "\n",
        "    filter_height = floor(height / level)\n",
        "    filter_width = floor(width / level)\n",
        "\n",
        "    window_shape = (filter_height, filter_width)\n",
        "    strides = (filter_width, filter_width)\n",
        "\n",
        "    pooled_maps = flax.linen.max_pool(feature_maps, window_shape, strides)\n",
        "    num_features = jnp.prod(jnp.array(pooled_maps.shape))\n",
        "    feature_vector = pooled_maps.reshape(num_features)\n",
        "    features.append(feature_vector)\n",
        "\n",
        "    if verbose:\n",
        "      print(\"Pool Level: \", level)\n",
        "      print(\"Shape of pooled maps: \", pooled_maps.shape)\n",
        "      print(\"Number of features in pooled maps: \", feature_vector.shape)\n",
        "      print()\n",
        "\n",
        "  features = jnp.concatenate(features)\n",
        "  return features"
      ],
      "metadata": {
        "id": "fy597ZWkhZcl"
      },
      "execution_count": null,
      "outputs": []
    },
    {
      "cell_type": "code",
      "source": [
        "\"\"\"\n",
        "One disadvantage of SPP layer is that if the shape of your feature maps is not\n",
        "divisible by the proportion of patial-pyramid pooling levels, rounding needs to\n",
        "be performed. In this case, SPP layer cannot guarantee fixed number of features\n",
        "for images of two different size.\n",
        "\n",
        "When verbose is activated, we see that the number of features in level 1 and 2\n",
        "for two different feature maps of different size given as example below  are \n",
        "same (512 and 2048). However, we notice that they are not equal for pool level \n",
        "4 because 10x10 is not divisible by 4 while 16x16 is actually divisible. \n",
        "\"\"\"\n",
        "\n",
        "key = jax.random.PRNGKey(seed=37)\n",
        "feature_maps = jax.random.normal(key, (10, 10, 512))\n",
        "feature_maps2 = jax.random.normal(key, (16, 16, 512))\n",
        "pool_levels = [1, 2, 4]\n",
        "\n",
        "\n",
        "features = spatial_pyramid_pool(feature_maps, pool_levels, verbose=True)\n",
        "print()\n",
        "features2 = spatial_pyramid_pool(feature_maps2, pool_levels, verbose=True)"
      ],
      "metadata": {
        "colab": {
          "base_uri": "https://localhost:8080/"
        },
        "id": "R5atRhdxDUzn",
        "outputId": "59d54d2b-a618-41a2-f44a-e979ab7b3649"
      },
      "execution_count": null,
      "outputs": [
        {
          "output_type": "stream",
          "name": "stdout",
          "text": [
            "Pool Level:  1\n",
            "Shape of pooled maps:  (1, 1, 512)\n",
            "Number of features in pooled maps:  (512,)\n",
            "\n",
            "Pool Level:  2\n",
            "Shape of pooled maps:  (2, 2, 512)\n",
            "Number of features in pooled maps:  (2048,)\n",
            "\n",
            "Pool Level:  4\n",
            "Shape of pooled maps:  (5, 5, 512)\n",
            "Number of features in pooled maps:  (12800,)\n",
            "\n",
            "\n",
            "Pool Level:  1\n",
            "Shape of pooled maps:  (1, 1, 512)\n",
            "Number of features in pooled maps:  (512,)\n",
            "\n",
            "Pool Level:  2\n",
            "Shape of pooled maps:  (2, 2, 512)\n",
            "Number of features in pooled maps:  (2048,)\n",
            "\n",
            "Pool Level:  4\n",
            "Shape of pooled maps:  (4, 4, 512)\n",
            "Number of features in pooled maps:  (8192,)\n",
            "\n"
          ]
        }
      ]
    },
    {
      "cell_type": "code",
      "source": [
        "\"\"\"\n",
        "spatial_pyramid_pool() is a function that imitates pyramid pooling operation in\n",
        "requested pool levels, but it is applicable to only 1 feature maps. In other words,\n",
        "it does not work for a batch of maps. To construct this auto-batching system, \n",
        "we can use vmap() in JAX.\n",
        "\n",
        "* Input axes of spatial_pyramid_pool() is 4 dimensional, but we want to vectorize \n",
        "  onto the feature maps, which is first argument. Hence, \"in_axes\" argument in\n",
        "  vmap becomes (x, None, None, None) where batch axis in feature maps taken as\n",
        "  input is 0, so x is equal to 0.\n",
        "\n",
        "* The output of spatial_pyramid_pool() is 1 dimensional vector, so \"out_axes\"\n",
        "  argument in vmap becomes x where batch axis in produced output is 0, so x is\n",
        "  equal to 0.\n",
        "\n",
        "\"\"\"\n",
        "spp_layer = jax.vmap(spatial_pyramid_pool, in_axes=(0, None, None, None), out_axes=0)\n",
        "batched_feature_maps = feature_maps = jax.random.normal(key, (2, 16, 16, 512))\n",
        "batched_features = spp_layer(batched_feature_maps, pool_levels, \"cl\", True)\n",
        "print(batched_features.shape)"
      ],
      "metadata": {
        "colab": {
          "base_uri": "https://localhost:8080/"
        },
        "id": "QB12IOA8EM8n",
        "outputId": "5ab15d3a-2f97-4f5f-d9b3-c7635e5f068e"
      },
      "execution_count": null,
      "outputs": [
        {
          "output_type": "stream",
          "name": "stdout",
          "text": [
            "Pool Level:  1\n",
            "Shape of pooled maps:  (32, 1, 16)\n",
            "Number of features in pooled maps:  (512,)\n",
            "\n",
            "Pool Level:  2\n",
            "Shape of pooled maps:  (64, 2, 16)\n",
            "Number of features in pooled maps:  (2048,)\n",
            "\n",
            "Pool Level:  4\n",
            "Shape of pooled maps:  (128, 4, 16)\n",
            "Number of features in pooled maps:  (8192,)\n",
            "\n",
            "(2, 10752)\n"
          ]
        }
      ]
    }
  ]
}